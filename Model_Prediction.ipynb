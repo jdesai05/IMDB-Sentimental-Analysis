{
 "cells": [
  {
   "cell_type": "code",
   "execution_count": 20,
   "id": "8eb698ab-8624-40f7-beb7-3404fa167b0f",
   "metadata": {},
   "outputs": [
    {
     "name": "stderr",
     "output_type": "stream",
     "text": [
      "[nltk_data] Downloading package stopwords to\n",
      "[nltk_data]     C:\\Users\\jaini\\AppData\\Roaming\\nltk_data...\n",
      "[nltk_data]   Package stopwords is already up-to-date!\n"
     ]
    },
    {
     "data": {
      "text/plain": [
       "True"
      ]
     },
     "execution_count": 20,
     "metadata": {},
     "output_type": "execute_result"
    }
   ],
   "source": [
    "import joblib\n",
    "import re\n",
    "from nltk.corpus import stopwords\n",
    "from nltk.stem import PorterStemmer\n",
    "import nltk\n",
    "\n",
    "# Download stopwords if not already\n",
    "nltk.download('stopwords')"
   ]
  },
  {
   "cell_type": "code",
   "execution_count": 21,
   "id": "504532a7-a548-4a67-8496-e7c5172219bf",
   "metadata": {},
   "outputs": [],
   "source": [
    "\n",
    "# Load saved model and vectorizer\n",
    "model = joblib.load('sentiment_model.pkl')\n",
    "vectorizer = joblib.load('vectorizer.pkl')"
   ]
  },
  {
   "cell_type": "code",
   "execution_count": 22,
   "id": "c0f796d5-eabc-419e-9bf7-be609654ed91",
   "metadata": {},
   "outputs": [],
   "source": [
    "# Preprocessing function (same as before)\n",
    "stop_words = set(stopwords.words('english'))\n",
    "ps = PorterStemmer()"
   ]
  },
  {
   "cell_type": "code",
   "execution_count": 23,
   "id": "c4401360-e1ae-4f22-baab-8bf5acc1474f",
   "metadata": {},
   "outputs": [],
   "source": [
    "def preprocess_text(text):\n",
    "    text = text.lower()\n",
    "    text = re.sub('<.*?>', '', text)\n",
    "    text = re.sub('[^a-zA-Z]', ' ', text)\n",
    "    words = text.split()\n",
    "    words = [ps.stem(word) for word in words if word not in stop_words]\n",
    "    return ' '.join(words)"
   ]
  },
  {
   "cell_type": "code",
   "execution_count": 24,
   "id": "5330d651-5348-4690-ae1e-a5c2c2e81fbc",
   "metadata": {},
   "outputs": [],
   "source": [
    "# Function to predict sentiment\n",
    "def predict_sentiment(text):\n",
    "    cleaned = preprocess_text(text)\n",
    "    vectorized = vectorizer.transform([cleaned]).toarray()\n",
    "    prediction = model.predict(vectorized)[0]\n",
    "    return 'Positive' if prediction == 1 else 'Negative'\n"
   ]
  },
  {
   "cell_type": "code",
   "execution_count": 34,
   "id": "c0b9f803-8b8d-4f52-88ee-4ed0034c6929",
   "metadata": {},
   "outputs": [
    {
     "name": "stdout",
     "output_type": "stream",
     "text": [
      "Positive\n"
     ]
    }
   ],
   "source": [
    "# Example\n",
    "print(predict_sentiment(\"I absolutely loved the storyline and the performances were outstanding.\"))"
   ]
  },
  {
   "cell_type": "code",
   "execution_count": null,
   "id": "2d2ddc27-b2b1-4b3c-9c04-6dbc8715ccb1",
   "metadata": {},
   "outputs": [],
   "source": []
  }
 ],
 "metadata": {
  "kernelspec": {
   "display_name": "Python 3 (ipykernel)",
   "language": "python",
   "name": "python3"
  },
  "language_info": {
   "codemirror_mode": {
    "name": "ipython",
    "version": 3
   },
   "file_extension": ".py",
   "mimetype": "text/x-python",
   "name": "python",
   "nbconvert_exporter": "python",
   "pygments_lexer": "ipython3",
   "version": "3.12.4"
  }
 },
 "nbformat": 4,
 "nbformat_minor": 5
}
